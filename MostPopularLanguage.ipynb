{
 "cells": [
  {
   "cell_type": "markdown",
   "metadata": {},
   "source": [
    "### Most Popular Language 2019"
   ]
  },
  {
   "cell_type": "markdown",
   "metadata": {},
   "source": [
    "There are three fundamental questions that arise when someone wants to learn a programming language.\n",
    "The first question is about what programming language is the most popular at the moment?\n",
    "\n",
    "Let's take a look the necessary libraries we will need to wrangle our data.\n",
    "We need pandas, numpy, itertools, and matplotlib"
   ]
  },
  {
   "cell_type": "code",
   "execution_count": 1,
   "metadata": {
    "collapsed": true
   },
   "outputs": [],
   "source": [
    "import pandas as pd\n",
    "import numpy as np\n",
    "import itertools\n",
    "import matplotlib.pyplot as plt\n",
    "%matplotlib inline"
   ]
  },
  {
   "cell_type": "code",
   "execution_count": 2,
   "metadata": {
    "collapsed": true
   },
   "outputs": [],
   "source": [
    "df_2019 = pd.read_csv(\"./input/2019 Survey Result.csv\")\n",
    "df_2019['Year'] = '2019'"
   ]
  },
  {
   "cell_type": "code",
   "execution_count": 3,
   "metadata": {
    "collapsed": true
   },
   "outputs": [],
   "source": [
    "# we only need information of the language that respondent worked with\n",
    "df_2019_lang = df_2019[['Respondent','LanguageWorkedWith']]"
   ]
  },
  {
   "cell_type": "code",
   "execution_count": 4,
   "metadata": {
    "collapsed": false,
    "scrolled": true
   },
   "outputs": [
    {
     "data": {
      "text/html": [
       "<div>\n",
       "<style scoped>\n",
       "    .dataframe tbody tr th:only-of-type {\n",
       "        vertical-align: middle;\n",
       "    }\n",
       "\n",
       "    .dataframe tbody tr th {\n",
       "        vertical-align: top;\n",
       "    }\n",
       "\n",
       "    .dataframe thead th {\n",
       "        text-align: right;\n",
       "    }\n",
       "</style>\n",
       "<table border=\"1\" class=\"dataframe\">\n",
       "  <thead>\n",
       "    <tr style=\"text-align: right;\">\n",
       "      <th></th>\n",
       "      <th>Respondent</th>\n",
       "      <th>LanguageWorkedWith</th>\n",
       "    </tr>\n",
       "  </thead>\n",
       "  <tbody>\n",
       "    <tr>\n",
       "      <th>0</th>\n",
       "      <td>1</td>\n",
       "      <td>HTML/CSS;Java;JavaScript;Python</td>\n",
       "    </tr>\n",
       "    <tr>\n",
       "      <th>1</th>\n",
       "      <td>2</td>\n",
       "      <td>C++;HTML/CSS;Python</td>\n",
       "    </tr>\n",
       "    <tr>\n",
       "      <th>2</th>\n",
       "      <td>3</td>\n",
       "      <td>HTML/CSS</td>\n",
       "    </tr>\n",
       "    <tr>\n",
       "      <th>3</th>\n",
       "      <td>4</td>\n",
       "      <td>C;C++;C#;Python;SQL</td>\n",
       "    </tr>\n",
       "    <tr>\n",
       "      <th>4</th>\n",
       "      <td>5</td>\n",
       "      <td>C++;HTML/CSS;Java;JavaScript;Python;SQL;VBA</td>\n",
       "    </tr>\n",
       "  </tbody>\n",
       "</table>\n",
       "</div>"
      ],
      "text/plain": [
       "   Respondent                           LanguageWorkedWith\n",
       "0           1              HTML/CSS;Java;JavaScript;Python\n",
       "1           2                          C++;HTML/CSS;Python\n",
       "2           3                                     HTML/CSS\n",
       "3           4                          C;C++;C#;Python;SQL\n",
       "4           5  C++;HTML/CSS;Java;JavaScript;Python;SQL;VBA"
      ]
     },
     "execution_count": 4,
     "metadata": {},
     "output_type": "execute_result"
    }
   ],
   "source": [
    "df_2019_lang.head()"
   ]
  },
  {
   "cell_type": "markdown",
   "metadata": {},
   "source": [
    "As shown above the LanguageWorkedWith columns has grouping Language item, every language is separated by semicolon.\n",
    "We need to split the grouping item into one per row to be able to analyze it. With use of itertools library we can make functions to split it."
   ]
  },
  {
   "cell_type": "code",
   "execution_count": 5,
   "metadata": {
    "collapsed": true
   },
   "outputs": [],
   "source": [
    "# def splitter(values):\n",
    "#     return list(itertools.product( *[str(v).split(';') for v in values]))\n",
    "\n",
    "# def expand(df):\n",
    "#     tuples=list()\n",
    "#     for i,row in df.iterrows():\n",
    "#         tuples.extend(splitter(row))\n",
    "#     return  pd.DataFrame.from_records(tuples,columns=df.columns)\n",
    "\n",
    "def splitter(values):\n",
    "    '''\n",
    "    Description : split grouping values using semicolon (;) separator\n",
    "    \n",
    "    INPUT:\n",
    "    values - each row in a dataframe\n",
    "    \n",
    "    OUTPUT:\n",
    "    list - list that containing items (language) that have been split\n",
    "    \n",
    "    '''\n",
    "    return list(itertools.product( *[str(v).split(';') for v in values]))\n",
    "\n",
    "def expand(df):\n",
    "    \n",
    "    '''\n",
    "    INPUT:\n",
    "    df - a dataframe that contains grouping values inside a column/columns that needs to be splitted\n",
    "    \n",
    "    OUTPUT: \n",
    "    a fresh rebuild dataframe\n",
    "    \n",
    "    '''\n",
    "    tuples=list()\n",
    "    for i,row in df.iterrows():\n",
    "        tuples.extend(splitter(row))\n",
    "    return  pd.DataFrame.from_records(tuples,columns=df.columns)"
   ]
  },
  {
   "cell_type": "code",
   "execution_count": 6,
   "metadata": {
    "collapsed": true
   },
   "outputs": [],
   "source": [
    "df_2019_lang = expand(df_2019_lang)"
   ]
  },
  {
   "cell_type": "code",
   "execution_count": 7,
   "metadata": {
    "collapsed": false,
    "scrolled": true
   },
   "outputs": [
    {
     "data": {
      "text/html": [
       "<div>\n",
       "<style scoped>\n",
       "    .dataframe tbody tr th:only-of-type {\n",
       "        vertical-align: middle;\n",
       "    }\n",
       "\n",
       "    .dataframe tbody tr th {\n",
       "        vertical-align: top;\n",
       "    }\n",
       "\n",
       "    .dataframe thead th {\n",
       "        text-align: right;\n",
       "    }\n",
       "</style>\n",
       "<table border=\"1\" class=\"dataframe\">\n",
       "  <thead>\n",
       "    <tr style=\"text-align: right;\">\n",
       "      <th></th>\n",
       "      <th>Respondent</th>\n",
       "      <th>LanguageWorkedWith</th>\n",
       "    </tr>\n",
       "  </thead>\n",
       "  <tbody>\n",
       "    <tr>\n",
       "      <th>0</th>\n",
       "      <td>1</td>\n",
       "      <td>HTML/CSS</td>\n",
       "    </tr>\n",
       "    <tr>\n",
       "      <th>1</th>\n",
       "      <td>1</td>\n",
       "      <td>Java</td>\n",
       "    </tr>\n",
       "    <tr>\n",
       "      <th>2</th>\n",
       "      <td>1</td>\n",
       "      <td>JavaScript</td>\n",
       "    </tr>\n",
       "    <tr>\n",
       "      <th>3</th>\n",
       "      <td>1</td>\n",
       "      <td>Python</td>\n",
       "    </tr>\n",
       "    <tr>\n",
       "      <th>4</th>\n",
       "      <td>2</td>\n",
       "      <td>C++</td>\n",
       "    </tr>\n",
       "  </tbody>\n",
       "</table>\n",
       "</div>"
      ],
      "text/plain": [
       "  Respondent LanguageWorkedWith\n",
       "0          1           HTML/CSS\n",
       "1          1               Java\n",
       "2          1         JavaScript\n",
       "3          1             Python\n",
       "4          2                C++"
      ]
     },
     "execution_count": 7,
     "metadata": {},
     "output_type": "execute_result"
    }
   ],
   "source": [
    "# Now we can use our function and take a look at the results\n",
    "df_2019_lang.head()"
   ]
  },
  {
   "cell_type": "code",
   "execution_count": 8,
   "metadata": {
    "collapsed": true
   },
   "outputs": [],
   "source": [
    "# Now that the grouping language already splitted, we can calculate how much each language appears in the dataset\n",
    "# Use percentage for easier to understand\n",
    "\n",
    "most_used_lang = pd.DataFrame(df_2019_lang['LanguageWorkedWith'].value_counts().reset_index())\n",
    "most_used_lang.rename(columns={'index':'LanguageWorkedWith','LanguageWorkedWith':'count'}, inplace=True)\n",
    "most_used_lang = most_used_lang.sort_values('count', ascending=True)\n",
    "most_used_lang['perc'] = (most_used_lang['count']/len(df_2019[df_2019['LanguageWorkedWith'].notnull()]))*100"
   ]
  },
  {
   "cell_type": "code",
   "execution_count": 9,
   "metadata": {
    "collapsed": true
   },
   "outputs": [],
   "source": [
    "# Create plot function to visualize the result in bar chart\n",
    "\n",
    "def plot_barh(df,x_col,y_col):\n",
    "    x_pos = [i for i, _ in enumerate(df[x_col])]\n",
    "    plt.figure(figsize=(10,10))\n",
    "    plt.barh(x_pos,df[y_col])\n",
    "    plt.yticks(x_pos, df[x_col])\n",
    "    plt.title('Most Popular Language 2019', fontsize=20)\n",
    "    plt.xlabel('Percentage of Respondents (%)', fontsize=12)\n",
    "    plt.show()"
   ]
  },
  {
   "cell_type": "code",
   "execution_count": 10,
   "metadata": {
    "collapsed": false
   },
   "outputs": [
    {
     "data": {
      "image/png": "[encoded data removed]",
      "text/plain": [
       "<matplotlib.figure.Figure at 0x7fc3144b2750>"
      ]
     },
     "metadata": {},
     "output_type": "display_data"
    }
   ],
   "source": [
    "plot_barh(most_used_lang,'LanguageWorkedWith','perc')"
   ]
  },
  {
   "cell_type": "markdown",
   "metadata": {},
   "source": [
    "As result above, Javascript is the most popular language nowadays.\n",
    "We may also want to know, who use Javascript or what kind of programmer is using JavaScript.\n",
    "Let's take a look at below simple analysis"
   ]
  },
  {
   "cell_type": "markdown",
   "metadata": {},
   "source": [
    "### Users of Javascript"
   ]
  },
  {
   "cell_type": "code",
   "execution_count": 11,
   "metadata": {
    "collapsed": true
   },
   "outputs": [],
   "source": [
    "# Now we need to know which developer are using JavaScript\n",
    "df_2019_lang_user = df_2019[['Respondent','LanguageWorkedWith','DevType']]\n",
    "df_2019_lang_user = df_2019_lang_user[df_2019_lang_user['DevType'].notnull()]\n",
    "df_2019_lang_user = expand(df_2019_lang_user)"
   ]
  },
  {
   "cell_type": "code",
   "execution_count": 12,
   "metadata": {
    "collapsed": false
   },
   "outputs": [
    {
     "data": {
      "text/html": [
       "<div>\n",
       "<style scoped>\n",
       "    .dataframe tbody tr th:only-of-type {\n",
       "        vertical-align: middle;\n",
       "    }\n",
       "\n",
       "    .dataframe tbody tr th {\n",
       "        vertical-align: top;\n",
       "    }\n",
       "\n",
       "    .dataframe thead th {\n",
       "        text-align: right;\n",
       "    }\n",
       "</style>\n",
       "<table border=\"1\" class=\"dataframe\">\n",
       "  <thead>\n",
       "    <tr style=\"text-align: right;\">\n",
       "      <th></th>\n",
       "      <th>Respondent</th>\n",
       "      <th>LanguageWorkedWith</th>\n",
       "      <th>DevType</th>\n",
       "    </tr>\n",
       "  </thead>\n",
       "  <tbody>\n",
       "    <tr>\n",
       "      <th>0</th>\n",
       "      <td>2</td>\n",
       "      <td>C++</td>\n",
       "      <td>Developer, desktop or enterprise applications</td>\n",
       "    </tr>\n",
       "    <tr>\n",
       "      <th>1</th>\n",
       "      <td>2</td>\n",
       "      <td>C++</td>\n",
       "      <td>Developer, front-end</td>\n",
       "    </tr>\n",
       "    <tr>\n",
       "      <th>2</th>\n",
       "      <td>2</td>\n",
       "      <td>HTML/CSS</td>\n",
       "      <td>Developer, desktop or enterprise applications</td>\n",
       "    </tr>\n",
       "    <tr>\n",
       "      <th>3</th>\n",
       "      <td>2</td>\n",
       "      <td>HTML/CSS</td>\n",
       "      <td>Developer, front-end</td>\n",
       "    </tr>\n",
       "    <tr>\n",
       "      <th>4</th>\n",
       "      <td>2</td>\n",
       "      <td>Python</td>\n",
       "      <td>Developer, desktop or enterprise applications</td>\n",
       "    </tr>\n",
       "  </tbody>\n",
       "</table>\n",
       "</div>"
      ],
      "text/plain": [
       "  Respondent LanguageWorkedWith                                        DevType\n",
       "0          2                C++  Developer, desktop or enterprise applications\n",
       "1          2                C++                           Developer, front-end\n",
       "2          2           HTML/CSS  Developer, desktop or enterprise applications\n",
       "3          2           HTML/CSS                           Developer, front-end\n",
       "4          2             Python  Developer, desktop or enterprise applications"
      ]
     },
     "execution_count": 12,
     "metadata": {},
     "output_type": "execute_result"
    }
   ],
   "source": [
    "df_2019_lang_user.head()"
   ]
  },
  {
   "cell_type": "code",
   "execution_count": 13,
   "metadata": {
    "collapsed": false
   },
   "outputs": [],
   "source": [
    "# Calculate total user per language\n",
    "df_2019_lang_user = df_2019_lang_user.groupby(['LanguageWorkedWith','DevType']).size().reset_index().rename(columns={0:'count'}).sort_values('count', ascending=False)"
   ]
  },
  {
   "cell_type": "code",
   "execution_count": 14,
   "metadata": {
    "collapsed": false,
    "scrolled": true
   },
   "outputs": [
    {
     "data": {
      "text/html": [
       "<div>\n",
       "<style scoped>\n",
       "    .dataframe tbody tr th:only-of-type {\n",
       "        vertical-align: middle;\n",
       "    }\n",
       "\n",
       "    .dataframe tbody tr th {\n",
       "        vertical-align: top;\n",
       "    }\n",
       "\n",
       "    .dataframe thead th {\n",
       "        text-align: right;\n",
       "    }\n",
       "</style>\n",
       "<table border=\"1\" class=\"dataframe\">\n",
       "  <thead>\n",
       "    <tr style=\"text-align: right;\">\n",
       "      <th></th>\n",
       "      <th>LanguageWorkedWith</th>\n",
       "      <th>DevType</th>\n",
       "      <th>count</th>\n",
       "    </tr>\n",
       "  </thead>\n",
       "  <tbody>\n",
       "    <tr>\n",
       "      <th>323</th>\n",
       "      <td>JavaScript</td>\n",
       "      <td>Developer, full-stack</td>\n",
       "      <td>36376</td>\n",
       "    </tr>\n",
       "    <tr>\n",
       "      <th>319</th>\n",
       "      <td>JavaScript</td>\n",
       "      <td>Developer, back-end</td>\n",
       "      <td>29372</td>\n",
       "    </tr>\n",
       "    <tr>\n",
       "      <th>322</th>\n",
       "      <td>JavaScript</td>\n",
       "      <td>Developer, front-end</td>\n",
       "      <td>23376</td>\n",
       "    </tr>\n",
       "    <tr>\n",
       "      <th>320</th>\n",
       "      <td>JavaScript</td>\n",
       "      <td>Developer, desktop or enterprise applications</td>\n",
       "      <td>11748</td>\n",
       "    </tr>\n",
       "    <tr>\n",
       "      <th>325</th>\n",
       "      <td>JavaScript</td>\n",
       "      <td>Developer, mobile</td>\n",
       "      <td>9953</td>\n",
       "    </tr>\n",
       "    <tr>\n",
       "      <th>334</th>\n",
       "      <td>JavaScript</td>\n",
       "      <td>Student</td>\n",
       "      <td>7574</td>\n",
       "    </tr>\n",
       "    <tr>\n",
       "      <th>315</th>\n",
       "      <td>JavaScript</td>\n",
       "      <td>Database administrator</td>\n",
       "      <td>7436</td>\n",
       "    </tr>\n",
       "    <tr>\n",
       "      <th>316</th>\n",
       "      <td>JavaScript</td>\n",
       "      <td>Designer</td>\n",
       "      <td>7192</td>\n",
       "    </tr>\n",
       "    <tr>\n",
       "      <th>335</th>\n",
       "      <td>JavaScript</td>\n",
       "      <td>System administrator</td>\n",
       "      <td>6558</td>\n",
       "    </tr>\n",
       "    <tr>\n",
       "      <th>317</th>\n",
       "      <td>JavaScript</td>\n",
       "      <td>DevOps specialist</td>\n",
       "      <td>6529</td>\n",
       "    </tr>\n",
       "  </tbody>\n",
       "</table>\n",
       "</div>"
      ],
      "text/plain": [
       "    LanguageWorkedWith                                        DevType  count\n",
       "323         JavaScript                          Developer, full-stack  36376\n",
       "319         JavaScript                            Developer, back-end  29372\n",
       "322         JavaScript                           Developer, front-end  23376\n",
       "320         JavaScript  Developer, desktop or enterprise applications  11748\n",
       "325         JavaScript                              Developer, mobile   9953\n",
       "334         JavaScript                                        Student   7574\n",
       "315         JavaScript                         Database administrator   7436\n",
       "316         JavaScript                                       Designer   7192\n",
       "335         JavaScript                           System administrator   6558\n",
       "317         JavaScript                              DevOps specialist   6529"
      ]
     },
     "execution_count": 14,
     "metadata": {},
     "output_type": "execute_result"
    }
   ],
   "source": [
    "# Show total user for javascript\n",
    "df_2019_lang_user[df_2019_lang_user['LanguageWorkedWith']=='JavaScript'][:10]"
   ]
  },
  {
   "cell_type": "markdown",
   "metadata": {},
   "source": [
    "JavaScript is commonly used by Full Stack Developer, followed by Back End Developer.\n",
    "No wonder as the javascript is widely known for its capability to made interactive application of website"
   ]
  },
  {
   "cell_type": "code",
   "execution_count": null,
   "metadata": {
    "collapsed": true
   },
   "outputs": [],
   "source": []
  }
 ],
 "metadata": {
  "kernelspec": {
   "display_name": "Python [Root]",
   "language": "python",
   "name": "Python [Root]"
  },
  "language_info": {
   "codemirror_mode": {
    "name": "ipython",
    "version": 2
   },
   "file_extension": ".py",
   "mimetype": "text/x-python",
   "name": "python",
   "nbconvert_exporter": "python",
   "pygments_lexer": "ipython2",
   "version": "2.7.12"
  }
 },
 "nbformat": 4,
 "nbformat_minor": 0
}
