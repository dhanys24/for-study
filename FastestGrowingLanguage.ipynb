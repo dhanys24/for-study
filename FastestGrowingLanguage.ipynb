{
 "cells": [
  {
   "cell_type": "markdown",
   "metadata": {},
   "source": [
    "### What is the fastest growing programming language from 2016 until 2019?"
   ]
  },
  {
   "cell_type": "markdown",
   "metadata": {},
   "source": [
    "Now we can continue to find the insight about what is fastest growing language.\n",
    "The library we will using is still same as the first question\n",
    "The difference is from the data we will need several years data to know the growth per language and instead of bar chart growth easier to understand if presented in the form of lines."
   ]
  },
  {
   "cell_type": "code",
   "execution_count": 1,
   "metadata": {
    "collapsed": true
   },
   "outputs": [],
   "source": [
    "import pandas as pd\n",
    "import numpy as np\n",
    "import itertools\n",
    "import matplotlib.pyplot as plt\n",
    "%matplotlib inline"
   ]
  },
  {
   "cell_type": "code",
   "execution_count": 2,
   "metadata": {
    "collapsed": false
   },
   "outputs": [
    {
     "name": "stderr",
     "output_type": "stream",
     "text": [
      "/home/jupyter/anaconda2/lib/python2.7/site-packages/IPython/core/interactiveshell.py:2723: DtypeWarning: Columns (8,12,13,14,15,16,50,51,52,53,55,56,57,58,59,60,61,62,63,64,65,66,67,68,69,70,71,72,73,74,75,76,77,78,79,80,81,82,83,84,85,93,94,95,96,97,98,99,100,101,102,103,104,105,106,107,108,109,110,111,112,113,114,115,116,117,118,119,120,121,122,123,124,125,126,127,128) have mixed types. Specify dtype option on import or set low_memory=False.\n",
      "  interactivity=interactivity, compiler=compiler, result=result)\n"
     ]
    }
   ],
   "source": [
    "# Read stackoverflow survey data from 2016 - 2019\n",
    "\n",
    "df_2016 = pd.read_csv(\"./input/2016 Stack Overflow Survey Responses.csv\")\n",
    "df_2017 = pd.read_csv(\"./input/2017 Survey Result.csv\")\n",
    "df_2018 = pd.read_csv(\"./input/2018 Survey Result.csv\")\n",
    "df_2019 = pd.read_csv(\"./input/2019 Survey Result.csv\")"
   ]
  },
  {
   "cell_type": "code",
   "execution_count": 3,
   "metadata": {
    "collapsed": true
   },
   "outputs": [],
   "source": [
    "# We only need information of the language that respondent worked with\n",
    "\n",
    "df_2016_lang = df_2016[['Unnamed: 0','tech_do']]\n",
    "df_2017_lang = df_2017[['Respondent','HaveWorkedLanguage']]\n",
    "df_2018_lang = df_2018[['Respondent','LanguageWorkedWith']]\n",
    "df_2019_lang = df_2019[['Respondent','LanguageWorkedWith']]"
   ]
  },
  {
   "cell_type": "code",
   "execution_count": 4,
   "metadata": {
    "collapsed": false
   },
   "outputs": [
    {
     "data": {
      "text/html": [
       "<div>\n",
       "<style scoped>\n",
       "    .dataframe tbody tr th:only-of-type {\n",
       "        vertical-align: middle;\n",
       "    }\n",
       "\n",
       "    .dataframe tbody tr th {\n",
       "        vertical-align: top;\n",
       "    }\n",
       "\n",
       "    .dataframe thead th {\n",
       "        text-align: right;\n",
       "    }\n",
       "</style>\n",
       "<table border=\"1\" class=\"dataframe\">\n",
       "  <thead>\n",
       "    <tr style=\"text-align: right;\">\n",
       "      <th></th>\n",
       "      <th>Unnamed: 0</th>\n",
       "      <th>tech_do</th>\n",
       "    </tr>\n",
       "  </thead>\n",
       "  <tbody>\n",
       "    <tr>\n",
       "      <th>0</th>\n",
       "      <td>1888</td>\n",
       "      <td>NaN</td>\n",
       "    </tr>\n",
       "    <tr>\n",
       "      <th>1</th>\n",
       "      <td>4637</td>\n",
       "      <td>iOS; Objective-C</td>\n",
       "    </tr>\n",
       "    <tr>\n",
       "      <th>2</th>\n",
       "      <td>11164</td>\n",
       "      <td>NaN</td>\n",
       "    </tr>\n",
       "    <tr>\n",
       "      <th>3</th>\n",
       "      <td>21378</td>\n",
       "      <td>NaN</td>\n",
       "    </tr>\n",
       "    <tr>\n",
       "      <th>4</th>\n",
       "      <td>30280</td>\n",
       "      <td>NaN</td>\n",
       "    </tr>\n",
       "  </tbody>\n",
       "</table>\n",
       "</div>"
      ],
      "text/plain": [
       "   Unnamed: 0           tech_do\n",
       "0        1888               NaN\n",
       "1        4637  iOS; Objective-C\n",
       "2       11164               NaN\n",
       "3       21378               NaN\n",
       "4       30280               NaN"
      ]
     },
     "execution_count": 4,
     "metadata": {},
     "output_type": "execute_result"
    }
   ],
   "source": [
    "# Before column name standardization\n",
    "df_2016_lang.head()"
   ]
  },
  {
   "cell_type": "markdown",
   "metadata": {},
   "source": [
    "Looking at the DataFrames above, the column name is not standardize.\n",
    "Before moving further let's standardize the column names of each dataframe to facilitate further analysis."
   ]
  },
  {
   "cell_type": "code",
   "execution_count": 5,
   "metadata": {
    "collapsed": false
   },
   "outputs": [
    {
     "name": "stderr",
     "output_type": "stream",
     "text": [
      "/home/jupyter/anaconda2/lib/python2.7/site-packages/pandas/core/frame.py:4025: SettingWithCopyWarning: \n",
      "A value is trying to be set on a copy of a slice from a DataFrame\n",
      "\n",
      "See the caveats in the documentation: http://pandas.pydata.org/pandas-docs/stable/indexing.html#indexing-view-versus-copy\n",
      "  return super(DataFrame, self).rename(**kwargs)\n"
     ]
    }
   ],
   "source": [
    "# Standardize the column name by renaming first column into 'Respondent' and second column into 'LanguageWorkedWith'\n",
    "\n",
    "dfs = [df_2016_lang, df_2017_lang, df_2018_lang, df_2019_lang]\n",
    "for df in dfs:\n",
    "    df.rename(columns={df.columns[0]:'Respondent'}, inplace=True)\n",
    "    df.rename(columns={df.columns[1]:'LanguageWorkedWith'}, inplace=True)"
   ]
  },
  {
   "cell_type": "code",
   "execution_count": 6,
   "metadata": {
    "collapsed": false
   },
   "outputs": [
    {
     "data": {
      "text/html": [
       "<div>\n",
       "<style scoped>\n",
       "    .dataframe tbody tr th:only-of-type {\n",
       "        vertical-align: middle;\n",
       "    }\n",
       "\n",
       "    .dataframe tbody tr th {\n",
       "        vertical-align: top;\n",
       "    }\n",
       "\n",
       "    .dataframe thead th {\n",
       "        text-align: right;\n",
       "    }\n",
       "</style>\n",
       "<table border=\"1\" class=\"dataframe\">\n",
       "  <thead>\n",
       "    <tr style=\"text-align: right;\">\n",
       "      <th></th>\n",
       "      <th>Respondent</th>\n",
       "      <th>LanguageWorkedWith</th>\n",
       "    </tr>\n",
       "  </thead>\n",
       "  <tbody>\n",
       "    <tr>\n",
       "      <th>0</th>\n",
       "      <td>1888</td>\n",
       "      <td>NaN</td>\n",
       "    </tr>\n",
       "    <tr>\n",
       "      <th>1</th>\n",
       "      <td>4637</td>\n",
       "      <td>iOS; Objective-C</td>\n",
       "    </tr>\n",
       "    <tr>\n",
       "      <th>2</th>\n",
       "      <td>11164</td>\n",
       "      <td>NaN</td>\n",
       "    </tr>\n",
       "    <tr>\n",
       "      <th>3</th>\n",
       "      <td>21378</td>\n",
       "      <td>NaN</td>\n",
       "    </tr>\n",
       "    <tr>\n",
       "      <th>4</th>\n",
       "      <td>30280</td>\n",
       "      <td>NaN</td>\n",
       "    </tr>\n",
       "  </tbody>\n",
       "</table>\n",
       "</div>"
      ],
      "text/plain": [
       "   Respondent LanguageWorkedWith\n",
       "0        1888                NaN\n",
       "1        4637   iOS; Objective-C\n",
       "2       11164                NaN\n",
       "3       21378                NaN\n",
       "4       30280                NaN"
      ]
     },
     "execution_count": 6,
     "metadata": {},
     "output_type": "execute_result"
    }
   ],
   "source": [
    "# After column name standardization\n",
    "df_2016_lang.head()"
   ]
  },
  {
   "cell_type": "code",
   "execution_count": 7,
   "metadata": {
    "collapsed": true
   },
   "outputs": [],
   "source": [
    "def splitter(values):\n",
    "    '''\n",
    "    Description : split grouping values using semicolon (;) separator\n",
    "    \n",
    "    INPUT:\n",
    "    values - each row in a dataframe\n",
    "    \n",
    "    OUTPUT:\n",
    "    list - list that containing items (language) that have been split\n",
    "    \n",
    "    '''\n",
    "    return list(itertools.product( *[str(v).split(';') for v in values]))\n",
    "\n",
    "def expand(df):\n",
    "    \n",
    "    '''\n",
    "    INPUT:\n",
    "    df - a dataframe that contains grouping values inside a column/columns that needs to be splitted\n",
    "    \n",
    "    OUTPUT: \n",
    "    a fresh rebuild dataframe\n",
    "    \n",
    "    '''\n",
    "    tuples=list()\n",
    "    for i,row in df.iterrows():\n",
    "        tuples.extend(splitter(row))\n",
    "    return  pd.DataFrame.from_records(tuples,columns=df.columns)"
   ]
  },
  {
   "cell_type": "code",
   "execution_count": 8,
   "metadata": {
    "collapsed": false
   },
   "outputs": [],
   "source": [
    "def data_cleaning(df_input):\n",
    "    '''\n",
    "    Description : This function is used to clean the dataframe values. \n",
    "    The cleaning process including delete the null values, split grouping values, and delete undesirable whitespaces.\n",
    "    Deleting null values is chosen instead of filling the null because \n",
    "    we want to see growth not predict which is what is needed is real data\n",
    "    \n",
    "    INPUT:\n",
    "    df_input - the pandas dataframe you want to clean \n",
    "    \n",
    "    OUTPUT:\n",
    "    df - a clean dataframe\n",
    "\n",
    "    '''\n",
    "    \n",
    "    df = df_input[df_input['LanguageWorkedWith'].notnull()]\n",
    "    df['TotalRows'] = df.shape[0]\n",
    "    df = expand(df) \n",
    "    df['LanguageWorkedWith'] = df['LanguageWorkedWith'].str.strip()\n",
    "    return df"
   ]
  },
  {
   "cell_type": "code",
   "execution_count": 9,
   "metadata": {
    "collapsed": false
   },
   "outputs": [],
   "source": [
    "years = ['2016','2017','2018','2019']\n",
    "dfs = [df_2016_lang, df_2017_lang, df_2018_lang, df_2019_lang]\n",
    "\n",
    "df_blank = []\n",
    "def data_processing(years,dfs):\n",
    "    '''\n",
    "    Description : This function is used to count percentage of users per language\n",
    "    We only take top 7 language to see the growth because too many language will end in a messy visualization\n",
    "    \n",
    "    INPUT: \n",
    "    df_input - a dataframe you want to calculate the percentage of user language\n",
    "    \n",
    "    OUTPUT:\n",
    "    df - a combined dataframes from each year that are ready for visualization\n",
    "    \n",
    "    '''\n",
    "    \n",
    "    for i, year in enumerate(years):\n",
    "        df_input = dfs[i]\n",
    "        df_clean = data_cleaning(df_input)\n",
    "        total_respondent = pd.to_numeric(df_clean['TotalRows'].iloc[0])\n",
    "        df_new = pd.DataFrame(df_clean['LanguageWorkedWith'].value_counts().reset_index())\n",
    "        df_new.rename(columns={'index':'LanguageWorkedWith','LanguageWorkedWith':'count'}, inplace=True)\n",
    "        df_new['perc'] = (df_new['count']/total_respondent)*100\n",
    "        df_new = df_new.sort_values('count', ascending=False)\n",
    "        df_new = df_new[:7] \n",
    "        df_new['Year'] = year\n",
    "        df_new.drop(columns='count', inplace=True)\n",
    "        df_blank.append(df_new) \n",
    "    all_years = pd.concat(df_blank)\n",
    "    return all_years"
   ]
  },
  {
   "cell_type": "code",
   "execution_count": 10,
   "metadata": {
    "collapsed": false,
    "scrolled": false
   },
   "outputs": [
    {
     "name": "stderr",
     "output_type": "stream",
     "text": [
      "/home/jupyter/anaconda2/lib/python2.7/site-packages/ipykernel/__main__.py:17: SettingWithCopyWarning: \n",
      "A value is trying to be set on a copy of a slice from a DataFrame.\n",
      "Try using .loc[row_indexer,col_indexer] = value instead\n",
      "\n",
      "See the caveats in the documentation: http://pandas.pydata.org/pandas-docs/stable/indexing.html#indexing-view-versus-copy\n"
     ]
    }
   ],
   "source": [
    "growth_lang = data_processing(years,dfs)"
   ]
  },
  {
   "cell_type": "code",
   "execution_count": 11,
   "metadata": {
    "collapsed": false
   },
   "outputs": [
    {
     "data": {
      "text/html": [
       "<div>\n",
       "<style scoped>\n",
       "    .dataframe tbody tr th:only-of-type {\n",
       "        vertical-align: middle;\n",
       "    }\n",
       "\n",
       "    .dataframe tbody tr th {\n",
       "        vertical-align: top;\n",
       "    }\n",
       "\n",
       "    .dataframe thead th {\n",
       "        text-align: right;\n",
       "    }\n",
       "</style>\n",
       "<table border=\"1\" class=\"dataframe\">\n",
       "  <thead>\n",
       "    <tr style=\"text-align: right;\">\n",
       "      <th></th>\n",
       "      <th>LanguageWorkedWith</th>\n",
       "      <th>perc</th>\n",
       "      <th>Year</th>\n",
       "    </tr>\n",
       "  </thead>\n",
       "  <tbody>\n",
       "    <tr>\n",
       "      <th>0</th>\n",
       "      <td>JavaScript</td>\n",
       "      <td>55.859255</td>\n",
       "      <td>2016</td>\n",
       "    </tr>\n",
       "    <tr>\n",
       "      <th>1</th>\n",
       "      <td>SQL</td>\n",
       "      <td>44.826109</td>\n",
       "      <td>2016</td>\n",
       "    </tr>\n",
       "    <tr>\n",
       "      <th>2</th>\n",
       "      <td>Java</td>\n",
       "      <td>36.597654</td>\n",
       "      <td>2016</td>\n",
       "    </tr>\n",
       "    <tr>\n",
       "      <th>3</th>\n",
       "      <td>C#</td>\n",
       "      <td>31.173891</td>\n",
       "      <td>2016</td>\n",
       "    </tr>\n",
       "    <tr>\n",
       "      <th>4</th>\n",
       "      <td>PHP</td>\n",
       "      <td>26.068332</td>\n",
       "      <td>2016</td>\n",
       "    </tr>\n",
       "  </tbody>\n",
       "</table>\n",
       "</div>"
      ],
      "text/plain": [
       "  LanguageWorkedWith       perc  Year\n",
       "0         JavaScript  55.859255  2016\n",
       "1                SQL  44.826109  2016\n",
       "2               Java  36.597654  2016\n",
       "3                 C#  31.173891  2016\n",
       "4                PHP  26.068332  2016"
      ]
     },
     "execution_count": 11,
     "metadata": {},
     "output_type": "execute_result"
    }
   ],
   "source": [
    "# a Dataframe ready to be plotted \n",
    "growth_lang.head()"
   ]
  },
  {
   "cell_type": "code",
   "execution_count": 12,
   "metadata": {
    "collapsed": true
   },
   "outputs": [],
   "source": [
    "def plot_line(df,x_axis,y_axis,variant):\n",
    "    '''\n",
    "    INPUT:\n",
    "    df - a dataframe contains x, y, and variant of metrics \n",
    "    x_axis - column name that will be the index or x_axis\n",
    "    y_axis - column name that will be the values we want to see in this case percentage\n",
    "    variant - in this case variant of LanguageWorkedWith : JavaScript, Python, PHP, etc)\n",
    "    '''\n",
    "    df_pvt = df.pivot(index=x_axis, columns=variant, values=y_axis)\n",
    "    df_pvt.plot() \n",
    "    plt.gcf().set_size_inches(20, 10)\n",
    "    plt.legend(loc=2, prop={'size': 20})\n",
    "    plt.title('Fastest Growing Language 2016 - 2019', fontsize=30)"
   ]
  },
  {
   "cell_type": "code",
   "execution_count": 13,
   "metadata": {
    "collapsed": false
   },
   "outputs": [
    {
     "data": {
      "image/png": "[encoded data removed]",
      "text/plain": [
       "<matplotlib.figure.Figure at 0x7fb2c54c8b90>"
      ]
     },
     "metadata": {},
     "output_type": "display_data"
    }
   ],
   "source": [
    "plot_line(growth_lang,'Year','perc','LanguageWorkedWith' )"
   ]
  },
  {
   "cell_type": "markdown",
   "metadata": {},
   "source": [
    "### Users of Python in 2019"
   ]
  },
  {
   "cell_type": "code",
   "execution_count": 14,
   "metadata": {
    "collapsed": true
   },
   "outputs": [],
   "source": [
    "# Now we need to know which developer are using Python\n",
    "df_2019_lang_user = df_2019[['Respondent','LanguageWorkedWith','DevType']]\n",
    "df_2019_lang_user = df_2019_lang_user[df_2019_lang_user['DevType'].notnull()]\n",
    "df_2019_lang_user = expand(df_2019_lang_user)"
   ]
  },
  {
   "cell_type": "code",
   "execution_count": 15,
   "metadata": {
    "collapsed": true
   },
   "outputs": [],
   "source": [
    "# Calculate total user per language\n",
    "df_2019_lang_user = df_2019_lang_user.groupby(['LanguageWorkedWith','DevType']).size().reset_index().rename(columns={0:'count'}).sort_values('count', ascending=False)"
   ]
  },
  {
   "cell_type": "code",
   "execution_count": 16,
   "metadata": {
    "collapsed": false
   },
   "outputs": [
    {
     "data": {
      "text/html": [
       "<div>\n",
       "<style scoped>\n",
       "    .dataframe tbody tr th:only-of-type {\n",
       "        vertical-align: middle;\n",
       "    }\n",
       "\n",
       "    .dataframe tbody tr th {\n",
       "        vertical-align: top;\n",
       "    }\n",
       "\n",
       "    .dataframe thead th {\n",
       "        text-align: right;\n",
       "    }\n",
       "</style>\n",
       "<table border=\"1\" class=\"dataframe\">\n",
       "  <thead>\n",
       "    <tr style=\"text-align: right;\">\n",
       "      <th></th>\n",
       "      <th>LanguageWorkedWith</th>\n",
       "      <th>DevType</th>\n",
       "      <th>count</th>\n",
       "    </tr>\n",
       "  </thead>\n",
       "  <tbody>\n",
       "    <tr>\n",
       "      <th>439</th>\n",
       "      <td>Python</td>\n",
       "      <td>Developer, back-end</td>\n",
       "      <td>16537</td>\n",
       "    </tr>\n",
       "    <tr>\n",
       "      <th>443</th>\n",
       "      <td>Python</td>\n",
       "      <td>Developer, full-stack</td>\n",
       "      <td>15406</td>\n",
       "    </tr>\n",
       "    <tr>\n",
       "      <th>442</th>\n",
       "      <td>Python</td>\n",
       "      <td>Developer, front-end</td>\n",
       "      <td>8442</td>\n",
       "    </tr>\n",
       "    <tr>\n",
       "      <th>454</th>\n",
       "      <td>Python</td>\n",
       "      <td>Student</td>\n",
       "      <td>6481</td>\n",
       "    </tr>\n",
       "    <tr>\n",
       "      <th>440</th>\n",
       "      <td>Python</td>\n",
       "      <td>Developer, desktop or enterprise applications</td>\n",
       "      <td>6274</td>\n",
       "    </tr>\n",
       "    <tr>\n",
       "      <th>434</th>\n",
       "      <td>Python</td>\n",
       "      <td>Data scientist or machine learning specialist</td>\n",
       "      <td>5125</td>\n",
       "    </tr>\n",
       "    <tr>\n",
       "      <th>445</th>\n",
       "      <td>Python</td>\n",
       "      <td>Developer, mobile</td>\n",
       "      <td>4685</td>\n",
       "    </tr>\n",
       "    <tr>\n",
       "      <th>437</th>\n",
       "      <td>Python</td>\n",
       "      <td>DevOps specialist</td>\n",
       "      <td>4647</td>\n",
       "    </tr>\n",
       "    <tr>\n",
       "      <th>455</th>\n",
       "      <td>Python</td>\n",
       "      <td>System administrator</td>\n",
       "      <td>4586</td>\n",
       "    </tr>\n",
       "    <tr>\n",
       "      <th>435</th>\n",
       "      <td>Python</td>\n",
       "      <td>Database administrator</td>\n",
       "      <td>3945</td>\n",
       "    </tr>\n",
       "  </tbody>\n",
       "</table>\n",
       "</div>"
      ],
      "text/plain": [
       "    LanguageWorkedWith                                        DevType  count\n",
       "439             Python                            Developer, back-end  16537\n",
       "443             Python                          Developer, full-stack  15406\n",
       "442             Python                           Developer, front-end   8442\n",
       "454             Python                                        Student   6481\n",
       "440             Python  Developer, desktop or enterprise applications   6274\n",
       "434             Python  Data scientist or machine learning specialist   5125\n",
       "445             Python                              Developer, mobile   4685\n",
       "437             Python                              DevOps specialist   4647\n",
       "455             Python                           System administrator   4586\n",
       "435             Python                         Database administrator   3945"
      ]
     },
     "execution_count": 16,
     "metadata": {},
     "output_type": "execute_result"
    }
   ],
   "source": [
    "# Show total user for python\n",
    "df_2019_lang_user[df_2019_lang_user['LanguageWorkedWith']=='Python'][:10]"
   ]
  },
  {
   "cell_type": "markdown",
   "metadata": {},
   "source": [
    "Based on line chart above we could say that the fastest growing language is **Python**.\n",
    "The top 7 languages have decreased and even disappeared from the top 7 in 2019. Only python is still showing good growth. Python is widely used for developer backend and full stack, also the strongest of python is it is commonly used for Data Science and Machine Learning subject."
   ]
  },
  {
   "cell_type": "code",
   "execution_count": null,
   "metadata": {
    "collapsed": true
   },
   "outputs": [],
   "source": []
  }
 ],
 "metadata": {
  "kernelspec": {
   "display_name": "Python [Root]",
   "language": "python",
   "name": "Python [Root]"
  },
  "language_info": {
   "codemirror_mode": {
    "name": "ipython",
    "version": 2
   },
   "file_extension": ".py",
   "mimetype": "text/x-python",
   "name": "python",
   "nbconvert_exporter": "python",
   "pygments_lexer": "ipython2",
   "version": "2.7.12"
  }
 },
 "nbformat": 4,
 "nbformat_minor": 0
}
