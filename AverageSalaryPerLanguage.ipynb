{
 "cells": [
  {
   "cell_type": "markdown",
   "metadata": {},
   "source": [
    "### 3. What is the highest paying programming language in 2018?"
   ]
  },
  {
   "cell_type": "markdown",
   "metadata": {},
   "source": [
    "Now we have come to the last question.\n",
    "What is the income of the developers based on the programming language they use?\n",
    "The library we will using is still same as the first and second question\n",
    "We will build bar chart just like question 1.\n",
    "For this question I use the data from Stackoverflow survey 2018"
   ]
  },
  {
   "cell_type": "code",
   "execution_count": 1,
   "metadata": {
    "collapsed": true
   },
   "outputs": [],
   "source": [
    "import pandas as pd\n",
    "import numpy as np\n",
    "import itertools\n",
    "import matplotlib.pyplot as plt\n",
    "%matplotlib inline"
   ]
  },
  {
   "cell_type": "code",
   "execution_count": 2,
   "metadata": {
    "collapsed": false
   },
   "outputs": [
    {
     "name": "stderr",
     "output_type": "stream",
     "text": [
      "/home/jupyter/anaconda2/lib/python2.7/site-packages/IPython/core/interactiveshell.py:2723: DtypeWarning: Columns (8,12,13,14,15,16,50,51,52,53,55,56,57,58,59,60,61,62,63,64,65,66,67,68,69,70,71,72,73,74,75,76,77,78,79,80,81,82,83,84,85,93,94,95,96,97,98,99,100,101,102,103,104,105,106,107,108,109,110,111,112,113,114,115,116,117,118,119,120,121,122,123,124,125,126,127,128) have mixed types. Specify dtype option on import or set low_memory=False.\n",
      "  interactivity=interactivity, compiler=compiler, result=result)\n"
     ]
    }
   ],
   "source": [
    "# Read stackoverflow survey data 2018\n",
    "df_2018 = pd.read_csv(\"./input/2018 Survey Result.csv\")\n",
    "df_2018['Year'] = '2018'"
   ]
  },
  {
   "cell_type": "code",
   "execution_count": 3,
   "metadata": {
    "collapsed": false
   },
   "outputs": [],
   "source": [
    "# We only need information of the language that respondent worked with and the salary without involving unique respondents\n",
    "\n",
    "df_2018_lang_used = df_2018[['LanguageWorkedWith','ConvertedSalary']]\n",
    "df_2018_lang_used= df_2018_lang_used[df_2018_lang_used['ConvertedSalary'].notnull()]"
   ]
  },
  {
   "cell_type": "code",
   "execution_count": 4,
   "metadata": {
    "collapsed": true
   },
   "outputs": [],
   "source": [
    "def splitter(values):\n",
    "    '''\n",
    "    Description : split grouping values using semicolon (;) separator\n",
    "    \n",
    "    INPUT:\n",
    "    values - each row in a dataframe\n",
    "    \n",
    "    OUTPUT:\n",
    "    list - list that containing items (language) that have been split\n",
    "    \n",
    "    '''\n",
    "    return list(itertools.product( *[str(v).split(';') for v in values]))\n",
    "\n",
    "def expand(df):\n",
    "    \n",
    "    '''\n",
    "    INPUT:\n",
    "    df - a dataframe that contains grouping values inside a column/columns that needs to be splitted\n",
    "    \n",
    "    OUTPUT: \n",
    "    a fresh rebuild dataframe\n",
    "    \n",
    "    '''\n",
    "    tuples=list()\n",
    "    for i,row in df.iterrows():\n",
    "        tuples.extend(splitter(row))\n",
    "    return  pd.DataFrame.from_records(tuples,columns=df.columns)"
   ]
  },
  {
   "cell_type": "code",
   "execution_count": 5,
   "metadata": {
    "collapsed": false
   },
   "outputs": [],
   "source": [
    "# split grouped language\n",
    "df_2018_lang_used = expand(df_2018_lang_used)"
   ]
  },
  {
   "cell_type": "code",
   "execution_count": 6,
   "metadata": {
    "collapsed": false,
    "scrolled": true
   },
   "outputs": [],
   "source": [
    "df_2018_lang_used['ConvertedSalary'] = (pd.to_numeric(df_2018_lang_used['ConvertedSalary'])).astype(int)"
   ]
  },
  {
   "cell_type": "code",
   "execution_count": 7,
   "metadata": {
    "collapsed": false
   },
   "outputs": [],
   "source": [
    "df_2018_group = pd.to_numeric(df_2018_lang_used['ConvertedSalary']).groupby(df_2018_lang_used['LanguageWorkedWith'])"
   ]
  },
  {
   "cell_type": "code",
   "execution_count": 8,
   "metadata": {
    "collapsed": false,
    "scrolled": true
   },
   "outputs": [
    {
     "data": {
      "text/html": [
       "<div>\n",
       "<style scoped>\n",
       "    .dataframe tbody tr th:only-of-type {\n",
       "        vertical-align: middle;\n",
       "    }\n",
       "\n",
       "    .dataframe tbody tr th {\n",
       "        vertical-align: top;\n",
       "    }\n",
       "\n",
       "    .dataframe thead th {\n",
       "        text-align: right;\n",
       "    }\n",
       "</style>\n",
       "<table border=\"1\" class=\"dataframe\">\n",
       "  <thead>\n",
       "    <tr style=\"text-align: right;\">\n",
       "      <th></th>\n",
       "      <th>LanguageWorkedWith</th>\n",
       "      <th>ConvertedSalary</th>\n",
       "    </tr>\n",
       "  </thead>\n",
       "  <tbody>\n",
       "    <tr>\n",
       "      <th>0</th>\n",
       "      <td>Assembly</td>\n",
       "      <td>43275.0</td>\n",
       "    </tr>\n",
       "    <tr>\n",
       "      <th>1</th>\n",
       "      <td>Bash/Shell</td>\n",
       "      <td>64866.0</td>\n",
       "    </tr>\n",
       "    <tr>\n",
       "      <th>2</th>\n",
       "      <td>C</td>\n",
       "      <td>46992.0</td>\n",
       "    </tr>\n",
       "    <tr>\n",
       "      <th>3</th>\n",
       "      <td>C#</td>\n",
       "      <td>59000.0</td>\n",
       "    </tr>\n",
       "    <tr>\n",
       "      <th>4</th>\n",
       "      <td>C++</td>\n",
       "      <td>50000.0</td>\n",
       "    </tr>\n",
       "  </tbody>\n",
       "</table>\n",
       "</div>"
      ],
      "text/plain": [
       "  LanguageWorkedWith  ConvertedSalary\n",
       "0           Assembly          43275.0\n",
       "1         Bash/Shell          64866.0\n",
       "2                  C          46992.0\n",
       "3                 C#          59000.0\n",
       "4                C++          50000.0"
      ]
     },
     "execution_count": 8,
     "metadata": {},
     "output_type": "execute_result"
    }
   ],
   "source": [
    "# Find the median of each language. We are not using mean because the salary collected is from all over the world. \n",
    "# So in this case, using median will be more standardize than mean\n",
    "\n",
    "df_2018_group = df_2018_group.median().reset_index()\n",
    "df_2018_group.head()"
   ]
  },
  {
   "cell_type": "code",
   "execution_count": 21,
   "metadata": {
    "collapsed": true
   },
   "outputs": [],
   "source": [
    "def plot_barh(df,x_col,y_col):\n",
    "    '''\n",
    "    INPUT:\n",
    "    df- a dataframe that ready to be plotted, must contains x, y value\n",
    "    x_col = column name that will become the index\n",
    "    y_col = column name that will become the value\n",
    "    \n",
    "    OUTPUT:\n",
    "    a bar chart\n",
    "    '''\n",
    "    x_pos = [i for i, _ in enumerate(df[x_col])]\n",
    "    plt.figure(figsize=(10,10))\n",
    "    plt.title('Salary per Programming Language',fontsize=20)\n",
    "    plt.xlabel('Salary ($)', fontsize=12)\n",
    "    plt.barh(x_pos,df[y_col])\n",
    "    plt.yticks(x_pos, df[x_col])\n",
    "    plt.show()"
   ]
  },
  {
   "cell_type": "code",
   "execution_count": 14,
   "metadata": {
    "collapsed": false
   },
   "outputs": [],
   "source": [
    "df_2018_group = df_2018_group[df_2018_group['ConvertedSalary']!='nan']"
   ]
  },
  {
   "cell_type": "code",
   "execution_count": 15,
   "metadata": {
    "collapsed": true
   },
   "outputs": [],
   "source": [
    "df_2018_group = df_2018_group.sort_values('ConvertedSalary',ascending=True)"
   ]
  },
  {
   "cell_type": "code",
   "execution_count": 22,
   "metadata": {
    "collapsed": false
   },
   "outputs": [
    {
     "data": {
      "image/png": "[encoded data removed]",
      "text/plain": [
       "<matplotlib.figure.Figure at 0x7f7cd7691110>"
      ]
     },
     "metadata": {},
     "output_type": "display_data"
    }
   ],
   "source": [
    "plot_barh(df_2018_group,'LanguageWorkedWith','ConvertedSalary')"
   ]
  },
  {
   "cell_type": "markdown",
   "metadata": {
    "collapsed": true
   },
   "source": [
    "Based on stackoverflow survey 2018, Clojure is the highest paying programming language with median salary more than $80.000"
   ]
  },
  {
   "cell_type": "code",
   "execution_count": null,
   "metadata": {
    "collapsed": true
   },
   "outputs": [],
   "source": []
  }
 ],
 "metadata": {
  "kernelspec": {
   "display_name": "Python [Root]",
   "language": "python",
   "name": "Python [Root]"
  },
  "language_info": {
   "codemirror_mode": {
    "name": "ipython",
    "version": 2
   },
   "file_extension": ".py",
   "mimetype": "text/x-python",
   "name": "python",
   "nbconvert_exporter": "python",
   "pygments_lexer": "ipython2",
   "version": "2.7.12"
  }
 },
 "nbformat": 4,
 "nbformat_minor": 0
}
